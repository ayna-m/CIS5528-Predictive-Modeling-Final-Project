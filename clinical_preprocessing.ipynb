{
 "cells": [
  {
   "cell_type": "markdown",
   "metadata": {},
   "source": [
    "# Preprocessing for clinical data\n",
    "Largely adapted from the [Multisurv model clinical preprocessing](https://github.com/luisvalesilva/multisurv/blob/master/data/preprocess_clinical.ipynb)"
   ]
  },
  {
   "cell_type": "code",
   "execution_count": 306,
   "metadata": {},
   "outputs": [],
   "source": [
    "import pandas as pd \n",
    "from pathlib import Path\n",
    "import matplotlib.pyplot as plt\n",
    "from sklearn.model_selection import train_test_split"
   ]
  },
  {
   "cell_type": "code",
   "execution_count": 307,
   "metadata": {},
   "outputs": [],
   "source": [
    "gene_expression_data = 'data/data_mrna_illumina_microarray.txt'\n",
    "cna_data = 'data/data_cna.txt'\n",
    "clinical_data = 'data/data_clinical_patient.txt'"
   ]
  },
  {
   "cell_type": "code",
   "execution_count": 308,
   "metadata": {},
   "outputs": [],
   "source": [
    "results_dir = Path('./results')\n",
    "results_dir.mkdir(parents=True, exist_ok=True)"
   ]
  },
  {
   "cell_type": "markdown",
   "metadata": {},
   "source": [
    "### 1.1. Exploring data"
   ]
  },
  {
   "cell_type": "code",
   "execution_count": 309,
   "metadata": {},
   "outputs": [
    {
     "data": {
      "text/plain": [
       "(20603, 1982)"
      ]
     },
     "execution_count": 309,
     "metadata": {},
     "output_type": "execute_result"
    }
   ],
   "source": [
    "gene_exp_df = pd.read_table(gene_expression_data, sep='\\t')\n",
    "gene_exp_df.shape"
   ]
  },
  {
   "cell_type": "code",
   "execution_count": 310,
   "metadata": {},
   "outputs": [
    {
     "data": {
      "text/html": [
       "<div>\n",
       "<style scoped>\n",
       "    .dataframe tbody tr th:only-of-type {\n",
       "        vertical-align: middle;\n",
       "    }\n",
       "\n",
       "    .dataframe tbody tr th {\n",
       "        vertical-align: top;\n",
       "    }\n",
       "\n",
       "    .dataframe thead th {\n",
       "        text-align: right;\n",
       "    }\n",
       "</style>\n",
       "<table border=\"1\" class=\"dataframe\">\n",
       "  <thead>\n",
       "    <tr style=\"text-align: right;\">\n",
       "      <th></th>\n",
       "      <th>Hugo_Symbol</th>\n",
       "      <th>Entrez_Gene_Id</th>\n",
       "      <th>MB-0362</th>\n",
       "      <th>MB-0346</th>\n",
       "      <th>MB-0386</th>\n",
       "      <th>MB-0574</th>\n",
       "      <th>MB-0185</th>\n",
       "      <th>MB-0503</th>\n",
       "      <th>MB-0641</th>\n",
       "      <th>MB-0201</th>\n",
       "      <th>...</th>\n",
       "      <th>MB-6192</th>\n",
       "      <th>MB-4820</th>\n",
       "      <th>MB-5527</th>\n",
       "      <th>MB-5167</th>\n",
       "      <th>MB-5465</th>\n",
       "      <th>MB-5453</th>\n",
       "      <th>MB-5471</th>\n",
       "      <th>MB-5127</th>\n",
       "      <th>MB-4313</th>\n",
       "      <th>MB-4823</th>\n",
       "    </tr>\n",
       "  </thead>\n",
       "  <tbody>\n",
       "    <tr>\n",
       "      <th>0</th>\n",
       "      <td>RERE</td>\n",
       "      <td>473</td>\n",
       "      <td>8.676978</td>\n",
       "      <td>9.653589</td>\n",
       "      <td>9.033589</td>\n",
       "      <td>8.814855</td>\n",
       "      <td>8.736406</td>\n",
       "      <td>9.274265</td>\n",
       "      <td>9.286585</td>\n",
       "      <td>8.437347</td>\n",
       "      <td>...</td>\n",
       "      <td>8.804947</td>\n",
       "      <td>9.991215</td>\n",
       "      <td>9.595923</td>\n",
       "      <td>9.637249</td>\n",
       "      <td>8.131637</td>\n",
       "      <td>9.606915</td>\n",
       "      <td>9.049296</td>\n",
       "      <td>8.858622</td>\n",
       "      <td>8.415867</td>\n",
       "      <td>9.902776</td>\n",
       "    </tr>\n",
       "    <tr>\n",
       "      <th>1</th>\n",
       "      <td>RNF165</td>\n",
       "      <td>494470</td>\n",
       "      <td>6.075331</td>\n",
       "      <td>6.687887</td>\n",
       "      <td>5.910885</td>\n",
       "      <td>5.628740</td>\n",
       "      <td>6.392422</td>\n",
       "      <td>5.908698</td>\n",
       "      <td>6.206729</td>\n",
       "      <td>6.095592</td>\n",
       "      <td>...</td>\n",
       "      <td>5.601472</td>\n",
       "      <td>7.103160</td>\n",
       "      <td>6.418987</td>\n",
       "      <td>6.203370</td>\n",
       "      <td>9.101942</td>\n",
       "      <td>7.427494</td>\n",
       "      <td>6.850000</td>\n",
       "      <td>6.550450</td>\n",
       "      <td>6.831722</td>\n",
       "      <td>7.338318</td>\n",
       "    </tr>\n",
       "    <tr>\n",
       "      <th>2</th>\n",
       "      <td>PHF7</td>\n",
       "      <td>51533</td>\n",
       "      <td>5.838270</td>\n",
       "      <td>5.600876</td>\n",
       "      <td>6.030718</td>\n",
       "      <td>5.849428</td>\n",
       "      <td>5.542133</td>\n",
       "      <td>5.964661</td>\n",
       "      <td>5.783374</td>\n",
       "      <td>5.737572</td>\n",
       "      <td>...</td>\n",
       "      <td>5.922894</td>\n",
       "      <td>6.181493</td>\n",
       "      <td>5.992153</td>\n",
       "      <td>6.230316</td>\n",
       "      <td>5.644587</td>\n",
       "      <td>5.927409</td>\n",
       "      <td>6.117095</td>\n",
       "      <td>5.936371</td>\n",
       "      <td>7.408960</td>\n",
       "      <td>5.875759</td>\n",
       "    </tr>\n",
       "    <tr>\n",
       "      <th>3</th>\n",
       "      <td>CIDEA</td>\n",
       "      <td>1149</td>\n",
       "      <td>6.397503</td>\n",
       "      <td>5.246319</td>\n",
       "      <td>10.111816</td>\n",
       "      <td>6.116868</td>\n",
       "      <td>5.184098</td>\n",
       "      <td>7.828171</td>\n",
       "      <td>8.744149</td>\n",
       "      <td>5.480091</td>\n",
       "      <td>...</td>\n",
       "      <td>6.488136</td>\n",
       "      <td>5.612846</td>\n",
       "      <td>6.241160</td>\n",
       "      <td>5.560488</td>\n",
       "      <td>5.611189</td>\n",
       "      <td>5.927031</td>\n",
       "      <td>6.374305</td>\n",
       "      <td>5.963092</td>\n",
       "      <td>9.181768</td>\n",
       "      <td>5.596873</td>\n",
       "    </tr>\n",
       "    <tr>\n",
       "      <th>4</th>\n",
       "      <td>TENT2</td>\n",
       "      <td>167153</td>\n",
       "      <td>7.906217</td>\n",
       "      <td>8.267256</td>\n",
       "      <td>7.959291</td>\n",
       "      <td>9.206376</td>\n",
       "      <td>8.162845</td>\n",
       "      <td>8.706646</td>\n",
       "      <td>8.518929</td>\n",
       "      <td>7.478413</td>\n",
       "      <td>...</td>\n",
       "      <td>8.534527</td>\n",
       "      <td>8.203819</td>\n",
       "      <td>8.813103</td>\n",
       "      <td>8.612911</td>\n",
       "      <td>7.798269</td>\n",
       "      <td>8.520545</td>\n",
       "      <td>8.499637</td>\n",
       "      <td>9.320207</td>\n",
       "      <td>6.804085</td>\n",
       "      <td>8.436732</td>\n",
       "    </tr>\n",
       "  </tbody>\n",
       "</table>\n",
       "<p>5 rows × 1982 columns</p>\n",
       "</div>"
      ],
      "text/plain": [
       "  Hugo_Symbol  Entrez_Gene_Id   MB-0362   MB-0346    MB-0386   MB-0574  \\\n",
       "0        RERE             473  8.676978  9.653589   9.033589  8.814855   \n",
       "1      RNF165          494470  6.075331  6.687887   5.910885  5.628740   \n",
       "2        PHF7           51533  5.838270  5.600876   6.030718  5.849428   \n",
       "3       CIDEA            1149  6.397503  5.246319  10.111816  6.116868   \n",
       "4       TENT2          167153  7.906217  8.267256   7.959291  9.206376   \n",
       "\n",
       "    MB-0185   MB-0503   MB-0641   MB-0201  ...   MB-6192   MB-4820   MB-5527  \\\n",
       "0  8.736406  9.274265  9.286585  8.437347  ...  8.804947  9.991215  9.595923   \n",
       "1  6.392422  5.908698  6.206729  6.095592  ...  5.601472  7.103160  6.418987   \n",
       "2  5.542133  5.964661  5.783374  5.737572  ...  5.922894  6.181493  5.992153   \n",
       "3  5.184098  7.828171  8.744149  5.480091  ...  6.488136  5.612846  6.241160   \n",
       "4  8.162845  8.706646  8.518929  7.478413  ...  8.534527  8.203819  8.813103   \n",
       "\n",
       "    MB-5167   MB-5465   MB-5453   MB-5471   MB-5127   MB-4313   MB-4823  \n",
       "0  9.637249  8.131637  9.606915  9.049296  8.858622  8.415867  9.902776  \n",
       "1  6.203370  9.101942  7.427494  6.850000  6.550450  6.831722  7.338318  \n",
       "2  6.230316  5.644587  5.927409  6.117095  5.936371  7.408960  5.875759  \n",
       "3  5.560488  5.611189  5.927031  6.374305  5.963092  9.181768  5.596873  \n",
       "4  8.612911  7.798269  8.520545  8.499637  9.320207  6.804085  8.436732  \n",
       "\n",
       "[5 rows x 1982 columns]"
      ]
     },
     "execution_count": 310,
     "metadata": {},
     "output_type": "execute_result"
    }
   ],
   "source": [
    "gene_exp_df.head()"
   ]
  },
  {
   "cell_type": "code",
   "execution_count": 311,
   "metadata": {},
   "outputs": [
    {
     "data": {
      "text/plain": [
       "(22544, 2175)"
      ]
     },
     "execution_count": 311,
     "metadata": {},
     "output_type": "execute_result"
    }
   ],
   "source": [
    "cna_df = pd.read_table(cna_data, sep='\\t')\n",
    "cna_df.shape"
   ]
  },
  {
   "cell_type": "code",
   "execution_count": 312,
   "metadata": {},
   "outputs": [
    {
     "data": {
      "text/html": [
       "<div>\n",
       "<style scoped>\n",
       "    .dataframe tbody tr th:only-of-type {\n",
       "        vertical-align: middle;\n",
       "    }\n",
       "\n",
       "    .dataframe tbody tr th {\n",
       "        vertical-align: top;\n",
       "    }\n",
       "\n",
       "    .dataframe thead th {\n",
       "        text-align: right;\n",
       "    }\n",
       "</style>\n",
       "<table border=\"1\" class=\"dataframe\">\n",
       "  <thead>\n",
       "    <tr style=\"text-align: right;\">\n",
       "      <th></th>\n",
       "      <th>Lymph nodes examined positive</th>\n",
       "      <th>Nottingham prognostic index</th>\n",
       "      <th>Cellularity</th>\n",
       "      <th>Chemotherapy</th>\n",
       "      <th>ER status measured by IHC</th>\n",
       "      <th>HER2 status measured by SNP6</th>\n",
       "      <th>Hormone Therapy</th>\n",
       "      <th>Inferred Menopausal State</th>\n",
       "      <th>Integrative Cluster</th>\n",
       "      <th>Age at Diagnosis</th>\n",
       "      <th>Overall Survival (Months)</th>\n",
       "      <th>Pam50 + Claudin-low subtype</th>\n",
       "      <th>3-Gene classifier subtype</th>\n",
       "      <th>Primary Tumor Laterality</th>\n",
       "      <th>Radio Therapy</th>\n",
       "      <th>Tumor Other Histologic Subtype</th>\n",
       "      <th>Type of Breast Surgery</th>\n",
       "      <th>Relapse Free Status (Months)</th>\n",
       "      <th>Label</th>\n",
       "      <th>group</th>\n",
       "    </tr>\n",
       "    <tr>\n",
       "      <th>#Patient Identifier</th>\n",
       "      <th></th>\n",
       "      <th></th>\n",
       "      <th></th>\n",
       "      <th></th>\n",
       "      <th></th>\n",
       "      <th></th>\n",
       "      <th></th>\n",
       "      <th></th>\n",
       "      <th></th>\n",
       "      <th></th>\n",
       "      <th></th>\n",
       "      <th></th>\n",
       "      <th></th>\n",
       "      <th></th>\n",
       "      <th></th>\n",
       "      <th></th>\n",
       "      <th></th>\n",
       "      <th></th>\n",
       "      <th></th>\n",
       "      <th></th>\n",
       "    </tr>\n",
       "  </thead>\n",
       "  <tbody>\n",
       "    <tr>\n",
       "      <th>MB-7014</th>\n",
       "      <td>1</td>\n",
       "      <td>5.038</td>\n",
       "      <td>High</td>\n",
       "      <td>NO</td>\n",
       "      <td>Positve</td>\n",
       "      <td>NEUTRAL</td>\n",
       "      <td>YES</td>\n",
       "      <td>Post</td>\n",
       "      <td>1</td>\n",
       "      <td>67.57</td>\n",
       "      <td>68.7</td>\n",
       "      <td>Basal</td>\n",
       "      <td>ER+/HER2- High Prolif</td>\n",
       "      <td>Left</td>\n",
       "      <td>YES</td>\n",
       "      <td>Mixed</td>\n",
       "      <td>BREAST CONSERVING</td>\n",
       "      <td>67.8</td>\n",
       "      <td>0</td>\n",
       "      <td>train</td>\n",
       "    </tr>\n",
       "    <tr>\n",
       "      <th>MB-5549</th>\n",
       "      <td>2</td>\n",
       "      <td>4.04</td>\n",
       "      <td>Moderate</td>\n",
       "      <td>YES</td>\n",
       "      <td>Negative</td>\n",
       "      <td>GAIN</td>\n",
       "      <td>NO</td>\n",
       "      <td>Post</td>\n",
       "      <td>1</td>\n",
       "      <td>54.83</td>\n",
       "      <td>88.93333333</td>\n",
       "      <td>Her2</td>\n",
       "      <td>ER-/HER2-</td>\n",
       "      <td>Left</td>\n",
       "      <td>YES</td>\n",
       "      <td>Ductal/NST</td>\n",
       "      <td>BREAST CONSERVING</td>\n",
       "      <td>67.93</td>\n",
       "      <td>0</td>\n",
       "      <td>train</td>\n",
       "    </tr>\n",
       "    <tr>\n",
       "      <th>MB-6030</th>\n",
       "      <td>0</td>\n",
       "      <td>2.04</td>\n",
       "      <td>High</td>\n",
       "      <td>NO</td>\n",
       "      <td>Positve</td>\n",
       "      <td>NEUTRAL</td>\n",
       "      <td>YES</td>\n",
       "      <td>Post</td>\n",
       "      <td>7</td>\n",
       "      <td>66.76</td>\n",
       "      <td>145.3666667</td>\n",
       "      <td>LumA</td>\n",
       "      <td>ER+/HER2- Low Prolif</td>\n",
       "      <td>Left</td>\n",
       "      <td>NO</td>\n",
       "      <td>Ductal/NST</td>\n",
       "      <td>MASTECTOMY</td>\n",
       "      <td>65</td>\n",
       "      <td>0</td>\n",
       "      <td>train</td>\n",
       "    </tr>\n",
       "    <tr>\n",
       "      <th>MB-7077</th>\n",
       "      <td>5</td>\n",
       "      <td>5.034</td>\n",
       "      <td>High</td>\n",
       "      <td>NO</td>\n",
       "      <td>Positve</td>\n",
       "      <td>NEUTRAL</td>\n",
       "      <td>YES</td>\n",
       "      <td>Pre</td>\n",
       "      <td>3</td>\n",
       "      <td>37.89</td>\n",
       "      <td>101.2666667</td>\n",
       "      <td>LumA</td>\n",
       "      <td>ER+/HER2- Low Prolif</td>\n",
       "      <td>Right</td>\n",
       "      <td>YES</td>\n",
       "      <td>Ductal/NST</td>\n",
       "      <td>BREAST CONSERVING</td>\n",
       "      <td>99.93</td>\n",
       "      <td>0</td>\n",
       "      <td>val</td>\n",
       "    </tr>\n",
       "    <tr>\n",
       "      <th>MB-3871</th>\n",
       "      <td>1</td>\n",
       "      <td>4.052</td>\n",
       "      <td>High</td>\n",
       "      <td>NO</td>\n",
       "      <td>Positve</td>\n",
       "      <td>NEUTRAL</td>\n",
       "      <td>YES</td>\n",
       "      <td>Post</td>\n",
       "      <td>8</td>\n",
       "      <td>62.03</td>\n",
       "      <td>172.8</td>\n",
       "      <td>LumA</td>\n",
       "      <td>ER+/HER2- Low Prolif</td>\n",
       "      <td>Left</td>\n",
       "      <td>NO</td>\n",
       "      <td>Ductal/NST</td>\n",
       "      <td>MASTECTOMY</td>\n",
       "      <td>170.53</td>\n",
       "      <td>0</td>\n",
       "      <td>train</td>\n",
       "    </tr>\n",
       "  </tbody>\n",
       "</table>\n",
       "</div>"
      ],
      "text/plain": [
       "                    Lymph nodes examined positive Nottingham prognostic index  \\\n",
       "#Patient Identifier                                                             \n",
       "MB-7014                                         1                       5.038   \n",
       "MB-5549                                         2                        4.04   \n",
       "MB-6030                                         0                        2.04   \n",
       "MB-7077                                         5                       5.034   \n",
       "MB-3871                                         1                       4.052   \n",
       "\n",
       "                    Cellularity Chemotherapy ER status measured by IHC  \\\n",
       "#Patient Identifier                                                      \n",
       "MB-7014                    High           NO                   Positve   \n",
       "MB-5549                Moderate          YES                  Negative   \n",
       "MB-6030                    High           NO                   Positve   \n",
       "MB-7077                    High           NO                   Positve   \n",
       "MB-3871                    High           NO                   Positve   \n",
       "\n",
       "                    HER2 status measured by SNP6 Hormone Therapy  \\\n",
       "#Patient Identifier                                                \n",
       "MB-7014                                  NEUTRAL             YES   \n",
       "MB-5549                                     GAIN              NO   \n",
       "MB-6030                                  NEUTRAL             YES   \n",
       "MB-7077                                  NEUTRAL             YES   \n",
       "MB-3871                                  NEUTRAL             YES   \n",
       "\n",
       "                    Inferred Menopausal State Integrative Cluster  \\\n",
       "#Patient Identifier                                                 \n",
       "MB-7014                                  Post                   1   \n",
       "MB-5549                                  Post                   1   \n",
       "MB-6030                                  Post                   7   \n",
       "MB-7077                                   Pre                   3   \n",
       "MB-3871                                  Post                   8   \n",
       "\n",
       "                    Age at Diagnosis Overall Survival (Months)  \\\n",
       "#Patient Identifier                                              \n",
       "MB-7014                        67.57                      68.7   \n",
       "MB-5549                        54.83               88.93333333   \n",
       "MB-6030                        66.76               145.3666667   \n",
       "MB-7077                        37.89               101.2666667   \n",
       "MB-3871                        62.03                     172.8   \n",
       "\n",
       "                    Pam50 + Claudin-low subtype 3-Gene classifier subtype  \\\n",
       "#Patient Identifier                                                         \n",
       "MB-7014                                   Basal     ER+/HER2- High Prolif   \n",
       "MB-5549                                    Her2                 ER-/HER2-   \n",
       "MB-6030                                    LumA      ER+/HER2- Low Prolif   \n",
       "MB-7077                                    LumA      ER+/HER2- Low Prolif   \n",
       "MB-3871                                    LumA      ER+/HER2- Low Prolif   \n",
       "\n",
       "                    Primary Tumor Laterality Radio Therapy  \\\n",
       "#Patient Identifier                                          \n",
       "MB-7014                                 Left           YES   \n",
       "MB-5549                                 Left           YES   \n",
       "MB-6030                                 Left            NO   \n",
       "MB-7077                                Right           YES   \n",
       "MB-3871                                 Left            NO   \n",
       "\n",
       "                    Tumor Other Histologic Subtype Type of Breast Surgery  \\\n",
       "#Patient Identifier                                                         \n",
       "MB-7014                                      Mixed      BREAST CONSERVING   \n",
       "MB-5549                                 Ductal/NST      BREAST CONSERVING   \n",
       "MB-6030                                 Ductal/NST             MASTECTOMY   \n",
       "MB-7077                                 Ductal/NST      BREAST CONSERVING   \n",
       "MB-3871                                 Ductal/NST             MASTECTOMY   \n",
       "\n",
       "                    Relapse Free Status (Months)  Label  group  \n",
       "#Patient Identifier                                             \n",
       "MB-7014                                     67.8      0  train  \n",
       "MB-5549                                    67.93      0  train  \n",
       "MB-6030                                       65      0  train  \n",
       "MB-7077                                    99.93      0    val  \n",
       "MB-3871                                   170.53      0  train  "
      ]
     },
     "execution_count": 312,
     "metadata": {},
     "output_type": "execute_result"
    }
   ],
   "source": [
    "clinical_df.head()"
   ]
  },
  {
   "cell_type": "code",
   "execution_count": 313,
   "metadata": {},
   "outputs": [
    {
     "data": {
      "text/plain": [
       "(2513, 24)"
      ]
     },
     "execution_count": 313,
     "metadata": {},
     "output_type": "execute_result"
    }
   ],
   "source": [
    "clinical_df = pd.read_table(clinical_data, sep='\\t')\n",
    "clinical_df.shape"
   ]
  },
  {
   "cell_type": "code",
   "execution_count": 314,
   "metadata": {},
   "outputs": [
    {
     "data": {
      "text/html": [
       "<div>\n",
       "<style scoped>\n",
       "    .dataframe tbody tr th:only-of-type {\n",
       "        vertical-align: middle;\n",
       "    }\n",
       "\n",
       "    .dataframe tbody tr th {\n",
       "        vertical-align: top;\n",
       "    }\n",
       "\n",
       "    .dataframe thead th {\n",
       "        text-align: right;\n",
       "    }\n",
       "</style>\n",
       "<table border=\"1\" class=\"dataframe\">\n",
       "  <thead>\n",
       "    <tr style=\"text-align: right;\">\n",
       "      <th></th>\n",
       "      <th>#Patient Identifier</th>\n",
       "      <th>Lymph nodes examined positive</th>\n",
       "      <th>Nottingham prognostic index</th>\n",
       "      <th>Cellularity</th>\n",
       "      <th>Chemotherapy</th>\n",
       "      <th>Cohort</th>\n",
       "      <th>ER status measured by IHC</th>\n",
       "      <th>HER2 status measured by SNP6</th>\n",
       "      <th>Hormone Therapy</th>\n",
       "      <th>Inferred Menopausal State</th>\n",
       "      <th>...</th>\n",
       "      <th>Overall Survival Status</th>\n",
       "      <th>Pam50 + Claudin-low subtype</th>\n",
       "      <th>3-Gene classifier subtype</th>\n",
       "      <th>Patient's Vital Status</th>\n",
       "      <th>Primary Tumor Laterality</th>\n",
       "      <th>Radio Therapy</th>\n",
       "      <th>Tumor Other Histologic Subtype</th>\n",
       "      <th>Type of Breast Surgery</th>\n",
       "      <th>Relapse Free Status</th>\n",
       "      <th>Relapse Free Status (Months)</th>\n",
       "    </tr>\n",
       "  </thead>\n",
       "  <tbody>\n",
       "    <tr>\n",
       "      <th>0</th>\n",
       "      <td>#Identifier to uniquely specify a patient.</td>\n",
       "      <td>Number of lymphnodes positive</td>\n",
       "      <td>Nottingham prognostic index</td>\n",
       "      <td>Tumor Content</td>\n",
       "      <td>Chemotherapy.</td>\n",
       "      <td>Cohort.</td>\n",
       "      <td>ER status measured by IHC</td>\n",
       "      <td>HER2 status measured by SNP6</td>\n",
       "      <td>Hormone Therapy</td>\n",
       "      <td>Inferred Menopausal State</td>\n",
       "      <td>...</td>\n",
       "      <td>Overall patient survival status.</td>\n",
       "      <td>Pam50 + Claudin-low subtype</td>\n",
       "      <td>3-Gene classifier subtype</td>\n",
       "      <td>The survival state of the person.</td>\n",
       "      <td>For tumors in paired organs, designates the si...</td>\n",
       "      <td>Radio Therapy</td>\n",
       "      <td>Text to describe a tumor's histologic subtype ...</td>\n",
       "      <td>Type of Breast Surgery</td>\n",
       "      <td>Relapse Free Status (Recurred = cases where th...</td>\n",
       "      <td>Time until last follow-up or relapse (in months)</td>\n",
       "    </tr>\n",
       "    <tr>\n",
       "      <th>1</th>\n",
       "      <td>#STRING</td>\n",
       "      <td>STRING</td>\n",
       "      <td>NUMBER</td>\n",
       "      <td>STRING</td>\n",
       "      <td>STRING</td>\n",
       "      <td>STRING</td>\n",
       "      <td>STRING</td>\n",
       "      <td>STRING</td>\n",
       "      <td>STRING</td>\n",
       "      <td>STRING</td>\n",
       "      <td>...</td>\n",
       "      <td>STRING</td>\n",
       "      <td>STRING</td>\n",
       "      <td>STRING</td>\n",
       "      <td>STRING</td>\n",
       "      <td>STRING</td>\n",
       "      <td>STRING</td>\n",
       "      <td>STRING</td>\n",
       "      <td>STRING</td>\n",
       "      <td>STRING</td>\n",
       "      <td>NUMBER</td>\n",
       "    </tr>\n",
       "    <tr>\n",
       "      <th>2</th>\n",
       "      <td>#1</td>\n",
       "      <td>1</td>\n",
       "      <td>1</td>\n",
       "      <td>1</td>\n",
       "      <td>1</td>\n",
       "      <td>1</td>\n",
       "      <td>1</td>\n",
       "      <td>1</td>\n",
       "      <td>1</td>\n",
       "      <td>1</td>\n",
       "      <td>...</td>\n",
       "      <td>1</td>\n",
       "      <td>1</td>\n",
       "      <td>1</td>\n",
       "      <td>1</td>\n",
       "      <td>1</td>\n",
       "      <td>1</td>\n",
       "      <td>1</td>\n",
       "      <td>1</td>\n",
       "      <td>1</td>\n",
       "      <td>1</td>\n",
       "    </tr>\n",
       "    <tr>\n",
       "      <th>3</th>\n",
       "      <td>PATIENT_ID</td>\n",
       "      <td>LYMPH_NODES_EXAMINED_POSITIVE</td>\n",
       "      <td>NPI</td>\n",
       "      <td>CELLULARITY</td>\n",
       "      <td>CHEMOTHERAPY</td>\n",
       "      <td>COHORT</td>\n",
       "      <td>ER_IHC</td>\n",
       "      <td>HER2_SNP6</td>\n",
       "      <td>HORMONE_THERAPY</td>\n",
       "      <td>INFERRED_MENOPAUSAL_STATE</td>\n",
       "      <td>...</td>\n",
       "      <td>OS_STATUS</td>\n",
       "      <td>CLAUDIN_SUBTYPE</td>\n",
       "      <td>THREEGENE</td>\n",
       "      <td>VITAL_STATUS</td>\n",
       "      <td>LATERALITY</td>\n",
       "      <td>RADIO_THERAPY</td>\n",
       "      <td>HISTOLOGICAL_SUBTYPE</td>\n",
       "      <td>BREAST_SURGERY</td>\n",
       "      <td>RFS_STATUS</td>\n",
       "      <td>RFS_MONTHS</td>\n",
       "    </tr>\n",
       "    <tr>\n",
       "      <th>4</th>\n",
       "      <td>MB-0000</td>\n",
       "      <td>10</td>\n",
       "      <td>6.044</td>\n",
       "      <td>NaN</td>\n",
       "      <td>NO</td>\n",
       "      <td>1</td>\n",
       "      <td>Positve</td>\n",
       "      <td>NEUTRAL</td>\n",
       "      <td>YES</td>\n",
       "      <td>Post</td>\n",
       "      <td>...</td>\n",
       "      <td>0:LIVING</td>\n",
       "      <td>claudin-low</td>\n",
       "      <td>ER-/HER2-</td>\n",
       "      <td>Living</td>\n",
       "      <td>Right</td>\n",
       "      <td>YES</td>\n",
       "      <td>Ductal/NST</td>\n",
       "      <td>MASTECTOMY</td>\n",
       "      <td>0:Not Recurred</td>\n",
       "      <td>138.65</td>\n",
       "    </tr>\n",
       "  </tbody>\n",
       "</table>\n",
       "<p>5 rows × 24 columns</p>\n",
       "</div>"
      ],
      "text/plain": [
       "                          #Patient Identifier  Lymph nodes examined positive  \\\n",
       "0  #Identifier to uniquely specify a patient.  Number of lymphnodes positive   \n",
       "1                                     #STRING                         STRING   \n",
       "2                                          #1                              1   \n",
       "3                                  PATIENT_ID  LYMPH_NODES_EXAMINED_POSITIVE   \n",
       "4                                     MB-0000                             10   \n",
       "\n",
       "   Nottingham prognostic index    Cellularity   Chemotherapy   Cohort  \\\n",
       "0  Nottingham prognostic index  Tumor Content  Chemotherapy.  Cohort.   \n",
       "1                       NUMBER         STRING         STRING   STRING   \n",
       "2                            1              1              1        1   \n",
       "3                          NPI    CELLULARITY   CHEMOTHERAPY   COHORT   \n",
       "4                        6.044            NaN             NO        1   \n",
       "\n",
       "   ER status measured by IHC  HER2 status measured by SNP6  Hormone Therapy  \\\n",
       "0  ER status measured by IHC  HER2 status measured by SNP6  Hormone Therapy   \n",
       "1                     STRING                        STRING           STRING   \n",
       "2                          1                             1                1   \n",
       "3                     ER_IHC                     HER2_SNP6  HORMONE_THERAPY   \n",
       "4                    Positve                       NEUTRAL              YES   \n",
       "\n",
       "   Inferred Menopausal State  ...           Overall Survival Status  \\\n",
       "0  Inferred Menopausal State  ...  Overall patient survival status.   \n",
       "1                     STRING  ...                            STRING   \n",
       "2                          1  ...                                 1   \n",
       "3  INFERRED_MENOPAUSAL_STATE  ...                         OS_STATUS   \n",
       "4                       Post  ...                          0:LIVING   \n",
       "\n",
       "   Pam50 + Claudin-low subtype  3-Gene classifier subtype  \\\n",
       "0  Pam50 + Claudin-low subtype  3-Gene classifier subtype   \n",
       "1                       STRING                     STRING   \n",
       "2                            1                          1   \n",
       "3              CLAUDIN_SUBTYPE                  THREEGENE   \n",
       "4                  claudin-low                  ER-/HER2-   \n",
       "\n",
       "              Patient's Vital Status  \\\n",
       "0  The survival state of the person.   \n",
       "1                             STRING   \n",
       "2                                  1   \n",
       "3                       VITAL_STATUS   \n",
       "4                             Living   \n",
       "\n",
       "                            Primary Tumor Laterality  Radio Therapy  \\\n",
       "0  For tumors in paired organs, designates the si...  Radio Therapy   \n",
       "1                                             STRING         STRING   \n",
       "2                                                  1              1   \n",
       "3                                         LATERALITY  RADIO_THERAPY   \n",
       "4                                              Right            YES   \n",
       "\n",
       "                      Tumor Other Histologic Subtype  Type of Breast Surgery  \\\n",
       "0  Text to describe a tumor's histologic subtype ...  Type of Breast Surgery   \n",
       "1                                             STRING                  STRING   \n",
       "2                                                  1                       1   \n",
       "3                               HISTOLOGICAL_SUBTYPE          BREAST_SURGERY   \n",
       "4                                         Ductal/NST              MASTECTOMY   \n",
       "\n",
       "                                 Relapse Free Status  \\\n",
       "0  Relapse Free Status (Recurred = cases where th...   \n",
       "1                                             STRING   \n",
       "2                                                  1   \n",
       "3                                         RFS_STATUS   \n",
       "4                                     0:Not Recurred   \n",
       "\n",
       "                       Relapse Free Status (Months)  \n",
       "0  Time until last follow-up or relapse (in months)  \n",
       "1                                            NUMBER  \n",
       "2                                                 1  \n",
       "3                                        RFS_MONTHS  \n",
       "4                                            138.65  \n",
       "\n",
       "[5 rows x 24 columns]"
      ]
     },
     "execution_count": 314,
     "metadata": {},
     "output_type": "execute_result"
    }
   ],
   "source": [
    "clinical_df.head()"
   ]
  },
  {
   "cell_type": "markdown",
   "metadata": {},
   "source": [
    "### 1.1. Dropping unnecessary rows and columns from clinical data"
   ]
  },
  {
   "cell_type": "code",
   "execution_count": 315,
   "metadata": {},
   "outputs": [
    {
     "data": {
      "text/html": [
       "<div>\n",
       "<style scoped>\n",
       "    .dataframe tbody tr th:only-of-type {\n",
       "        vertical-align: middle;\n",
       "    }\n",
       "\n",
       "    .dataframe tbody tr th {\n",
       "        vertical-align: top;\n",
       "    }\n",
       "\n",
       "    .dataframe thead th {\n",
       "        text-align: right;\n",
       "    }\n",
       "</style>\n",
       "<table border=\"1\" class=\"dataframe\">\n",
       "  <thead>\n",
       "    <tr style=\"text-align: right;\">\n",
       "      <th></th>\n",
       "      <th>#Patient Identifier</th>\n",
       "      <th>Lymph nodes examined positive</th>\n",
       "      <th>Nottingham prognostic index</th>\n",
       "      <th>Cellularity</th>\n",
       "      <th>Chemotherapy</th>\n",
       "      <th>Cohort</th>\n",
       "      <th>ER status measured by IHC</th>\n",
       "      <th>HER2 status measured by SNP6</th>\n",
       "      <th>Hormone Therapy</th>\n",
       "      <th>Inferred Menopausal State</th>\n",
       "      <th>...</th>\n",
       "      <th>Overall Survival Status</th>\n",
       "      <th>Pam50 + Claudin-low subtype</th>\n",
       "      <th>3-Gene classifier subtype</th>\n",
       "      <th>Patient's Vital Status</th>\n",
       "      <th>Primary Tumor Laterality</th>\n",
       "      <th>Radio Therapy</th>\n",
       "      <th>Tumor Other Histologic Subtype</th>\n",
       "      <th>Type of Breast Surgery</th>\n",
       "      <th>Relapse Free Status</th>\n",
       "      <th>Relapse Free Status (Months)</th>\n",
       "    </tr>\n",
       "  </thead>\n",
       "  <tbody>\n",
       "    <tr>\n",
       "      <th>0</th>\n",
       "      <td>MB-0000</td>\n",
       "      <td>10</td>\n",
       "      <td>6.044</td>\n",
       "      <td>NaN</td>\n",
       "      <td>NO</td>\n",
       "      <td>1</td>\n",
       "      <td>Positve</td>\n",
       "      <td>NEUTRAL</td>\n",
       "      <td>YES</td>\n",
       "      <td>Post</td>\n",
       "      <td>...</td>\n",
       "      <td>0:LIVING</td>\n",
       "      <td>claudin-low</td>\n",
       "      <td>ER-/HER2-</td>\n",
       "      <td>Living</td>\n",
       "      <td>Right</td>\n",
       "      <td>YES</td>\n",
       "      <td>Ductal/NST</td>\n",
       "      <td>MASTECTOMY</td>\n",
       "      <td>0:Not Recurred</td>\n",
       "      <td>138.65</td>\n",
       "    </tr>\n",
       "    <tr>\n",
       "      <th>1</th>\n",
       "      <td>MB-0002</td>\n",
       "      <td>0</td>\n",
       "      <td>4.02</td>\n",
       "      <td>High</td>\n",
       "      <td>NO</td>\n",
       "      <td>1</td>\n",
       "      <td>Positve</td>\n",
       "      <td>NEUTRAL</td>\n",
       "      <td>YES</td>\n",
       "      <td>Pre</td>\n",
       "      <td>...</td>\n",
       "      <td>0:LIVING</td>\n",
       "      <td>LumA</td>\n",
       "      <td>ER+/HER2- High Prolif</td>\n",
       "      <td>Living</td>\n",
       "      <td>Right</td>\n",
       "      <td>YES</td>\n",
       "      <td>Ductal/NST</td>\n",
       "      <td>BREAST CONSERVING</td>\n",
       "      <td>0:Not Recurred</td>\n",
       "      <td>83.52</td>\n",
       "    </tr>\n",
       "    <tr>\n",
       "      <th>2</th>\n",
       "      <td>MB-0005</td>\n",
       "      <td>1</td>\n",
       "      <td>4.03</td>\n",
       "      <td>High</td>\n",
       "      <td>YES</td>\n",
       "      <td>1</td>\n",
       "      <td>Positve</td>\n",
       "      <td>NEUTRAL</td>\n",
       "      <td>YES</td>\n",
       "      <td>Pre</td>\n",
       "      <td>...</td>\n",
       "      <td>1:DECEASED</td>\n",
       "      <td>LumB</td>\n",
       "      <td>NaN</td>\n",
       "      <td>Died of Disease</td>\n",
       "      <td>Right</td>\n",
       "      <td>NO</td>\n",
       "      <td>Ductal/NST</td>\n",
       "      <td>MASTECTOMY</td>\n",
       "      <td>1:Recurred</td>\n",
       "      <td>151.28</td>\n",
       "    </tr>\n",
       "    <tr>\n",
       "      <th>3</th>\n",
       "      <td>MB-0006</td>\n",
       "      <td>3</td>\n",
       "      <td>4.05</td>\n",
       "      <td>Moderate</td>\n",
       "      <td>YES</td>\n",
       "      <td>1</td>\n",
       "      <td>Positve</td>\n",
       "      <td>NEUTRAL</td>\n",
       "      <td>YES</td>\n",
       "      <td>Pre</td>\n",
       "      <td>...</td>\n",
       "      <td>0:LIVING</td>\n",
       "      <td>LumB</td>\n",
       "      <td>NaN</td>\n",
       "      <td>Living</td>\n",
       "      <td>Right</td>\n",
       "      <td>YES</td>\n",
       "      <td>Mixed</td>\n",
       "      <td>MASTECTOMY</td>\n",
       "      <td>0:Not Recurred</td>\n",
       "      <td>162.76</td>\n",
       "    </tr>\n",
       "    <tr>\n",
       "      <th>4</th>\n",
       "      <td>MB-0008</td>\n",
       "      <td>8</td>\n",
       "      <td>6.08</td>\n",
       "      <td>High</td>\n",
       "      <td>YES</td>\n",
       "      <td>1</td>\n",
       "      <td>Positve</td>\n",
       "      <td>NEUTRAL</td>\n",
       "      <td>YES</td>\n",
       "      <td>Post</td>\n",
       "      <td>...</td>\n",
       "      <td>1:DECEASED</td>\n",
       "      <td>LumB</td>\n",
       "      <td>ER+/HER2- High Prolif</td>\n",
       "      <td>Died of Disease</td>\n",
       "      <td>Right</td>\n",
       "      <td>YES</td>\n",
       "      <td>Mixed</td>\n",
       "      <td>MASTECTOMY</td>\n",
       "      <td>1:Recurred</td>\n",
       "      <td>18.55</td>\n",
       "    </tr>\n",
       "  </tbody>\n",
       "</table>\n",
       "<p>5 rows × 24 columns</p>\n",
       "</div>"
      ],
      "text/plain": [
       "  #Patient Identifier Lymph nodes examined positive  \\\n",
       "0             MB-0000                            10   \n",
       "1             MB-0002                             0   \n",
       "2             MB-0005                             1   \n",
       "3             MB-0006                             3   \n",
       "4             MB-0008                             8   \n",
       "\n",
       "  Nottingham prognostic index Cellularity Chemotherapy Cohort  \\\n",
       "0                       6.044         NaN           NO      1   \n",
       "1                        4.02        High           NO      1   \n",
       "2                        4.03        High          YES      1   \n",
       "3                        4.05    Moderate          YES      1   \n",
       "4                        6.08        High          YES      1   \n",
       "\n",
       "  ER status measured by IHC HER2 status measured by SNP6 Hormone Therapy  \\\n",
       "0                   Positve                      NEUTRAL             YES   \n",
       "1                   Positve                      NEUTRAL             YES   \n",
       "2                   Positve                      NEUTRAL             YES   \n",
       "3                   Positve                      NEUTRAL             YES   \n",
       "4                   Positve                      NEUTRAL             YES   \n",
       "\n",
       "  Inferred Menopausal State  ... Overall Survival Status  \\\n",
       "0                      Post  ...                0:LIVING   \n",
       "1                       Pre  ...                0:LIVING   \n",
       "2                       Pre  ...              1:DECEASED   \n",
       "3                       Pre  ...                0:LIVING   \n",
       "4                      Post  ...              1:DECEASED   \n",
       "\n",
       "  Pam50 + Claudin-low subtype 3-Gene classifier subtype  \\\n",
       "0                 claudin-low                 ER-/HER2-   \n",
       "1                        LumA     ER+/HER2- High Prolif   \n",
       "2                        LumB                       NaN   \n",
       "3                        LumB                       NaN   \n",
       "4                        LumB     ER+/HER2- High Prolif   \n",
       "\n",
       "  Patient's Vital Status Primary Tumor Laterality Radio Therapy  \\\n",
       "0                 Living                    Right           YES   \n",
       "1                 Living                    Right           YES   \n",
       "2        Died of Disease                    Right            NO   \n",
       "3                 Living                    Right           YES   \n",
       "4        Died of Disease                    Right           YES   \n",
       "\n",
       "  Tumor Other Histologic Subtype Type of Breast Surgery Relapse Free Status  \\\n",
       "0                     Ductal/NST             MASTECTOMY      0:Not Recurred   \n",
       "1                     Ductal/NST      BREAST CONSERVING      0:Not Recurred   \n",
       "2                     Ductal/NST             MASTECTOMY          1:Recurred   \n",
       "3                          Mixed             MASTECTOMY      0:Not Recurred   \n",
       "4                          Mixed             MASTECTOMY          1:Recurred   \n",
       "\n",
       "  Relapse Free Status (Months)  \n",
       "0                       138.65  \n",
       "1                        83.52  \n",
       "2                       151.28  \n",
       "3                       162.76  \n",
       "4                        18.55  \n",
       "\n",
       "[5 rows x 24 columns]"
      ]
     },
     "execution_count": 315,
     "metadata": {},
     "output_type": "execute_result"
    }
   ],
   "source": [
    "# Dropping unnecessary rows and columns\n",
    "clinical_df = clinical_df.drop(clinical_df.index[:4]).reset_index() #headers\n",
    "clinical_df = clinical_df.drop(clinical_df.columns[0],axis=1) #index column\n",
    "clinical_df.head()"
   ]
  },
  {
   "cell_type": "markdown",
   "metadata": {},
   "source": [
    "### 1.2 Selecting patients that have all 3 data types: gene expression, CNA, clinical"
   ]
  },
  {
   "cell_type": "code",
   "execution_count": 316,
   "metadata": {},
   "outputs": [],
   "source": [
    "gene_exp_patients = set(gene_exp_df.columns[2:])\n",
    "cna_patients = set(cna_df.columns[2:])\n",
    "clinical_patients = set(clinical_df['#Patient Identifier'])\n",
    "\n",
    "common_patients = gene_exp_patients.intersection(cna_patients, clinical_patients)\n",
    "\n",
    "gene_exp_columns_to_drop = [col for col in gene_exp_df.columns[2:] if col not in common_patients]\n",
    "gene_exp_df = gene_exp_df.drop(columns=gene_exp_columns_to_drop)\n",
    "\n",
    "cna_columns_to_drop = [col for col in cna_df.columns[2:] if col not in common_patients]\n",
    "cna_df = cna_df.drop(columns=cna_columns_to_drop)\n",
    "\n",
    "clinical_df = clinical_df[clinical_df['#Patient Identifier'].isin(common_patients)]"
   ]
  },
  {
   "cell_type": "code",
   "execution_count": 317,
   "metadata": {},
   "outputs": [
    {
     "data": {
      "text/plain": [
       "(20603, 1982)"
      ]
     },
     "execution_count": 317,
     "metadata": {},
     "output_type": "execute_result"
    }
   ],
   "source": [
    "gene_exp_df.shape"
   ]
  },
  {
   "cell_type": "code",
   "execution_count": 318,
   "metadata": {},
   "outputs": [
    {
     "data": {
      "text/plain": [
       "(22544, 1982)"
      ]
     },
     "execution_count": 318,
     "metadata": {},
     "output_type": "execute_result"
    }
   ],
   "source": [
    "cna_df.shape"
   ]
  },
  {
   "cell_type": "code",
   "execution_count": 319,
   "metadata": {},
   "outputs": [
    {
     "data": {
      "text/plain": [
       "(1980, 24)"
      ]
     },
     "execution_count": 319,
     "metadata": {},
     "output_type": "execute_result"
    }
   ],
   "source": [
    "clinical_df.shape"
   ]
  },
  {
   "cell_type": "markdown",
   "metadata": {},
   "source": [
    "### 1.3 Checking for missing clinical data"
   ]
  },
  {
   "cell_type": "code",
   "execution_count": 320,
   "metadata": {},
   "outputs": [
    {
     "name": "stdout",
     "output_type": "stream",
     "text": [
      "~~ PERCENTAGE OF MISSING DATA ~~\n",
      "\n",
      "Lymph nodes examined positive: 76 (3.84%)\n",
      "Cellularity: 63 (3.18%)\n",
      "ER status measured by IHC: 43 (2.17%)\n",
      "3-Gene classifier subtype: 216 (10.91%)\n",
      "Patient's Vital Status: 1 (0.05%)\n",
      "Primary Tumor Laterality: 110 (5.56%)\n",
      "Tumor Other Histologic Subtype: 44 (2.22%)\n",
      "Type of Breast Surgery: 25 (1.26%)\n",
      "Relapse Free Status: 1 (0.05%)\n"
     ]
    }
   ],
   "source": [
    "print('~~ PERCENTAGE OF MISSING DATA ~~')\n",
    "print()\n",
    "\n",
    "n = clinical_df.shape[0]\n",
    "\n",
    "for col in clinical_df.columns:\n",
    "    if col == '#Patient Identifier':\n",
    "        continue\n",
    "\n",
    "    n_levels = len(clinical_df[col].value_counts())\n",
    "    \n",
    "    if n_levels == n:\n",
    "        clinical_df = clinical_df.drop(columns=[col])\n",
    "    else:\n",
    "        n_missing = sum(clinical_df[col].isnull())\n",
    "        if n_missing > 0:\n",
    "            if n_missing == n:\n",
    "                clinical_df = clinical_df.drop(columns=[col])\n",
    "            else:\n",
    "                print(f'{col}: {n_missing} ({round(n_missing / n * 100, 2)}%)')"
   ]
  },
  {
   "cell_type": "code",
   "execution_count": 321,
   "metadata": {},
   "outputs": [
    {
     "data": {
      "text/plain": [
       "(1980, 24)"
      ]
     },
     "execution_count": 321,
     "metadata": {},
     "output_type": "execute_result"
    }
   ],
   "source": [
    "clinical_df.shape"
   ]
  },
  {
   "cell_type": "code",
   "execution_count": 322,
   "metadata": {},
   "outputs": [
    {
     "data": {
      "text/plain": [
       "Sex\n",
       "Female    1980\n",
       "Name: count, dtype: int64"
      ]
     },
     "execution_count": 322,
     "metadata": {},
     "output_type": "execute_result"
    }
   ],
   "source": [
    "# Making sure all patients are female\n",
    "clinical_df['Sex'].value_counts()"
   ]
  },
  {
   "cell_type": "markdown",
   "metadata": {},
   "source": [
    "### 1.4. Selecting clinical features\n",
    "For now selecting most of the features, but can fine tune later based on cancer subtypes"
   ]
  },
  {
   "cell_type": "code",
   "execution_count": 323,
   "metadata": {},
   "outputs": [
    {
     "data": {
      "text/plain": [
       "Index(['#Patient Identifier', 'Lymph nodes examined positive',\n",
       "       'Nottingham prognostic index', 'Cellularity', 'Chemotherapy', 'Cohort',\n",
       "       'ER status measured by IHC', 'HER2 status measured by SNP6',\n",
       "       'Hormone Therapy', 'Inferred Menopausal State', 'Sex',\n",
       "       'Integrative Cluster', 'Age at Diagnosis', 'Overall Survival (Months)',\n",
       "       'Overall Survival Status', 'Pam50 + Claudin-low subtype',\n",
       "       '3-Gene classifier subtype', 'Patient's Vital Status',\n",
       "       'Primary Tumor Laterality', 'Radio Therapy',\n",
       "       'Tumor Other Histologic Subtype', 'Type of Breast Surgery',\n",
       "       'Relapse Free Status', 'Relapse Free Status (Months)'],\n",
       "      dtype='object')"
      ]
     },
     "execution_count": 323,
     "metadata": {},
     "output_type": "execute_result"
    }
   ],
   "source": [
    "clinical_df.columns"
   ]
  },
  {
   "cell_type": "code",
   "execution_count": 324,
   "metadata": {},
   "outputs": [
    {
     "data": {
      "text/html": [
       "<div>\n",
       "<style scoped>\n",
       "    .dataframe tbody tr th:only-of-type {\n",
       "        vertical-align: middle;\n",
       "    }\n",
       "\n",
       "    .dataframe tbody tr th {\n",
       "        vertical-align: top;\n",
       "    }\n",
       "\n",
       "    .dataframe thead th {\n",
       "        text-align: right;\n",
       "    }\n",
       "</style>\n",
       "<table border=\"1\" class=\"dataframe\">\n",
       "  <thead>\n",
       "    <tr style=\"text-align: right;\">\n",
       "      <th></th>\n",
       "      <th>#Patient Identifier</th>\n",
       "      <th>Lymph nodes examined positive</th>\n",
       "      <th>Nottingham prognostic index</th>\n",
       "      <th>Cellularity</th>\n",
       "      <th>Chemotherapy</th>\n",
       "      <th>ER status measured by IHC</th>\n",
       "      <th>HER2 status measured by SNP6</th>\n",
       "      <th>Hormone Therapy</th>\n",
       "      <th>Inferred Menopausal State</th>\n",
       "      <th>Integrative Cluster</th>\n",
       "      <th>Age at Diagnosis</th>\n",
       "      <th>Overall Survival (Months)</th>\n",
       "      <th>Pam50 + Claudin-low subtype</th>\n",
       "      <th>3-Gene classifier subtype</th>\n",
       "      <th>Primary Tumor Laterality</th>\n",
       "      <th>Radio Therapy</th>\n",
       "      <th>Tumor Other Histologic Subtype</th>\n",
       "      <th>Type of Breast Surgery</th>\n",
       "      <th>Relapse Free Status (Months)</th>\n",
       "    </tr>\n",
       "  </thead>\n",
       "  <tbody>\n",
       "    <tr>\n",
       "      <th>0</th>\n",
       "      <td>MB-0000</td>\n",
       "      <td>10</td>\n",
       "      <td>6.044</td>\n",
       "      <td>NaN</td>\n",
       "      <td>NO</td>\n",
       "      <td>Positve</td>\n",
       "      <td>NEUTRAL</td>\n",
       "      <td>YES</td>\n",
       "      <td>Post</td>\n",
       "      <td>4ER+</td>\n",
       "      <td>75.65</td>\n",
       "      <td>140.5</td>\n",
       "      <td>claudin-low</td>\n",
       "      <td>ER-/HER2-</td>\n",
       "      <td>Right</td>\n",
       "      <td>YES</td>\n",
       "      <td>Ductal/NST</td>\n",
       "      <td>MASTECTOMY</td>\n",
       "      <td>138.65</td>\n",
       "    </tr>\n",
       "    <tr>\n",
       "      <th>1</th>\n",
       "      <td>MB-0002</td>\n",
       "      <td>0</td>\n",
       "      <td>4.02</td>\n",
       "      <td>High</td>\n",
       "      <td>NO</td>\n",
       "      <td>Positve</td>\n",
       "      <td>NEUTRAL</td>\n",
       "      <td>YES</td>\n",
       "      <td>Pre</td>\n",
       "      <td>4ER+</td>\n",
       "      <td>43.19</td>\n",
       "      <td>84.63333333</td>\n",
       "      <td>LumA</td>\n",
       "      <td>ER+/HER2- High Prolif</td>\n",
       "      <td>Right</td>\n",
       "      <td>YES</td>\n",
       "      <td>Ductal/NST</td>\n",
       "      <td>BREAST CONSERVING</td>\n",
       "      <td>83.52</td>\n",
       "    </tr>\n",
       "    <tr>\n",
       "      <th>2</th>\n",
       "      <td>MB-0005</td>\n",
       "      <td>1</td>\n",
       "      <td>4.03</td>\n",
       "      <td>High</td>\n",
       "      <td>YES</td>\n",
       "      <td>Positve</td>\n",
       "      <td>NEUTRAL</td>\n",
       "      <td>YES</td>\n",
       "      <td>Pre</td>\n",
       "      <td>3</td>\n",
       "      <td>48.87</td>\n",
       "      <td>163.7</td>\n",
       "      <td>LumB</td>\n",
       "      <td>NaN</td>\n",
       "      <td>Right</td>\n",
       "      <td>NO</td>\n",
       "      <td>Ductal/NST</td>\n",
       "      <td>MASTECTOMY</td>\n",
       "      <td>151.28</td>\n",
       "    </tr>\n",
       "    <tr>\n",
       "      <th>3</th>\n",
       "      <td>MB-0006</td>\n",
       "      <td>3</td>\n",
       "      <td>4.05</td>\n",
       "      <td>Moderate</td>\n",
       "      <td>YES</td>\n",
       "      <td>Positve</td>\n",
       "      <td>NEUTRAL</td>\n",
       "      <td>YES</td>\n",
       "      <td>Pre</td>\n",
       "      <td>9</td>\n",
       "      <td>47.68</td>\n",
       "      <td>164.9333333</td>\n",
       "      <td>LumB</td>\n",
       "      <td>NaN</td>\n",
       "      <td>Right</td>\n",
       "      <td>YES</td>\n",
       "      <td>Mixed</td>\n",
       "      <td>MASTECTOMY</td>\n",
       "      <td>162.76</td>\n",
       "    </tr>\n",
       "    <tr>\n",
       "      <th>4</th>\n",
       "      <td>MB-0008</td>\n",
       "      <td>8</td>\n",
       "      <td>6.08</td>\n",
       "      <td>High</td>\n",
       "      <td>YES</td>\n",
       "      <td>Positve</td>\n",
       "      <td>NEUTRAL</td>\n",
       "      <td>YES</td>\n",
       "      <td>Post</td>\n",
       "      <td>9</td>\n",
       "      <td>76.97</td>\n",
       "      <td>41.36666667</td>\n",
       "      <td>LumB</td>\n",
       "      <td>ER+/HER2- High Prolif</td>\n",
       "      <td>Right</td>\n",
       "      <td>YES</td>\n",
       "      <td>Mixed</td>\n",
       "      <td>MASTECTOMY</td>\n",
       "      <td>18.55</td>\n",
       "    </tr>\n",
       "  </tbody>\n",
       "</table>\n",
       "</div>"
      ],
      "text/plain": [
       "  #Patient Identifier Lymph nodes examined positive  \\\n",
       "0             MB-0000                            10   \n",
       "1             MB-0002                             0   \n",
       "2             MB-0005                             1   \n",
       "3             MB-0006                             3   \n",
       "4             MB-0008                             8   \n",
       "\n",
       "  Nottingham prognostic index Cellularity Chemotherapy  \\\n",
       "0                       6.044         NaN           NO   \n",
       "1                        4.02        High           NO   \n",
       "2                        4.03        High          YES   \n",
       "3                        4.05    Moderate          YES   \n",
       "4                        6.08        High          YES   \n",
       "\n",
       "  ER status measured by IHC HER2 status measured by SNP6 Hormone Therapy  \\\n",
       "0                   Positve                      NEUTRAL             YES   \n",
       "1                   Positve                      NEUTRAL             YES   \n",
       "2                   Positve                      NEUTRAL             YES   \n",
       "3                   Positve                      NEUTRAL             YES   \n",
       "4                   Positve                      NEUTRAL             YES   \n",
       "\n",
       "  Inferred Menopausal State Integrative Cluster Age at Diagnosis  \\\n",
       "0                      Post                4ER+            75.65   \n",
       "1                       Pre                4ER+            43.19   \n",
       "2                       Pre                   3            48.87   \n",
       "3                       Pre                   9            47.68   \n",
       "4                      Post                   9            76.97   \n",
       "\n",
       "  Overall Survival (Months) Pam50 + Claudin-low subtype  \\\n",
       "0                     140.5                 claudin-low   \n",
       "1               84.63333333                        LumA   \n",
       "2                     163.7                        LumB   \n",
       "3               164.9333333                        LumB   \n",
       "4               41.36666667                        LumB   \n",
       "\n",
       "  3-Gene classifier subtype Primary Tumor Laterality Radio Therapy  \\\n",
       "0                 ER-/HER2-                    Right           YES   \n",
       "1     ER+/HER2- High Prolif                    Right           YES   \n",
       "2                       NaN                    Right            NO   \n",
       "3                       NaN                    Right           YES   \n",
       "4     ER+/HER2- High Prolif                    Right           YES   \n",
       "\n",
       "  Tumor Other Histologic Subtype Type of Breast Surgery  \\\n",
       "0                     Ductal/NST             MASTECTOMY   \n",
       "1                     Ductal/NST      BREAST CONSERVING   \n",
       "2                     Ductal/NST             MASTECTOMY   \n",
       "3                          Mixed             MASTECTOMY   \n",
       "4                          Mixed             MASTECTOMY   \n",
       "\n",
       "  Relapse Free Status (Months)  \n",
       "0                       138.65  \n",
       "1                        83.52  \n",
       "2                       151.28  \n",
       "3                       162.76  \n",
       "4                        18.55  "
      ]
     },
     "execution_count": 324,
     "metadata": {},
     "output_type": "execute_result"
    }
   ],
   "source": [
    "# Selecting variables\n",
    "label_cols = ['#Patient Identifier', 'Overall Survival (Months)']\n",
    "keep_cols = ['Lymph nodes examined positive', 'Nottingham prognostic index', 'Cellularity', 'Chemotherapy','ER status measured by IHC',\n",
    "            'HER2 status measured by SNP6', 'Hormone Therapy', 'Inferred Menopausal State', 'Integrative Cluster', 'Age at Diagnosis', \n",
    "             'Pam50 + Claudin-low subtype','3-Gene classifier subtype', 'Primary Tumor Laterality', 'Tumor Other Histologic Subtype',  \n",
    "             'Radio Therapy','Type of Breast Surgery', 'Relapse Free Status (Months)']\n",
    "columns_to_drop = [col for col in clinical_df.columns if col not in label_cols + keep_cols]\n",
    "clinical_df = clinical_df.drop(columns=columns_to_drop)\n",
    "clinical_df.head()"
   ]
  },
  {
   "cell_type": "markdown",
   "metadata": {},
   "source": [
    "### 1.5. Exploring feature distributions"
   ]
  },
  {
   "cell_type": "code",
   "execution_count": 325,
   "metadata": {},
   "outputs": [
    {
     "data": {
      "text/plain": [
       "Cellularity\n",
       "High        965\n",
       "Moderate    737\n",
       "Low         215\n",
       "Name: count, dtype: int64"
      ]
     },
     "execution_count": 325,
     "metadata": {},
     "output_type": "execute_result"
    }
   ],
   "source": [
    "clinical_df['Cellularity'].value_counts()"
   ]
  },
  {
   "cell_type": "code",
   "execution_count": 326,
   "metadata": {},
   "outputs": [
    {
     "data": {
      "text/plain": [
       "Chemotherapy\n",
       "NO     1568\n",
       "YES     412\n",
       "Name: count, dtype: int64"
      ]
     },
     "execution_count": 326,
     "metadata": {},
     "output_type": "execute_result"
    }
   ],
   "source": [
    "clinical_df['Chemotherapy'].value_counts()"
   ]
  },
  {
   "cell_type": "code",
   "execution_count": 327,
   "metadata": {},
   "outputs": [
    {
     "data": {
      "text/plain": [
       "ER status measured by IHC\n",
       "Positve     1498\n",
       "Negative     439\n",
       "Name: count, dtype: int64"
      ]
     },
     "execution_count": 327,
     "metadata": {},
     "output_type": "execute_result"
    }
   ],
   "source": [
    "clinical_df['ER status measured by IHC'].value_counts()"
   ]
  },
  {
   "cell_type": "code",
   "execution_count": 328,
   "metadata": {},
   "outputs": [
    {
     "data": {
      "text/plain": [
       "HER2 status measured by SNP6\n",
       "NEUTRAL    1436\n",
       "GAIN        438\n",
       "LOSS        101\n",
       "UNDEF         5\n",
       "Name: count, dtype: int64"
      ]
     },
     "execution_count": 328,
     "metadata": {},
     "output_type": "execute_result"
    }
   ],
   "source": [
    "clinical_df['HER2 status measured by SNP6'].value_counts()"
   ]
  },
  {
   "cell_type": "code",
   "execution_count": 329,
   "metadata": {},
   "outputs": [
    {
     "data": {
      "text/plain": [
       "Hormone Therapy\n",
       "YES    1216\n",
       "NO      764\n",
       "Name: count, dtype: int64"
      ]
     },
     "execution_count": 329,
     "metadata": {},
     "output_type": "execute_result"
    }
   ],
   "source": [
    "clinical_df['Hormone Therapy'].value_counts()"
   ]
  },
  {
   "cell_type": "code",
   "execution_count": 330,
   "metadata": {},
   "outputs": [
    {
     "data": {
      "text/plain": [
       "Inferred Menopausal State\n",
       "Post    1556\n",
       "Pre      424\n",
       "Name: count, dtype: int64"
      ]
     },
     "execution_count": 330,
     "metadata": {},
     "output_type": "execute_result"
    }
   ],
   "source": [
    "clinical_df['Inferred Menopausal State'].value_counts()"
   ]
  },
  {
   "cell_type": "code",
   "execution_count": 331,
   "metadata": {},
   "outputs": [
    {
     "data": {
      "text/plain": [
       "Integrative Cluster\n",
       "8       299\n",
       "3       290\n",
       "4ER+    260\n",
       "10      226\n",
       "7       190\n",
       "5       190\n",
       "9       146\n",
       "1       139\n",
       "6        85\n",
       "4ER-     83\n",
       "2        72\n",
       "Name: count, dtype: int64"
      ]
     },
     "execution_count": 331,
     "metadata": {},
     "output_type": "execute_result"
    }
   ],
   "source": [
    "clinical_df['Integrative Cluster'].value_counts()"
   ]
  },
  {
   "cell_type": "code",
   "execution_count": 332,
   "metadata": {},
   "outputs": [
    {
     "data": {
      "text/plain": [
       "Pam50 + Claudin-low subtype\n",
       "LumA           700\n",
       "LumB           475\n",
       "Her2           224\n",
       "claudin-low    218\n",
       "Basal          209\n",
       "Normal         148\n",
       "NC               6\n",
       "Name: count, dtype: int64"
      ]
     },
     "execution_count": 332,
     "metadata": {},
     "output_type": "execute_result"
    }
   ],
   "source": [
    "clinical_df['Pam50 + Claudin-low subtype'].value_counts()"
   ]
  },
  {
   "cell_type": "code",
   "execution_count": 333,
   "metadata": {},
   "outputs": [
    {
     "data": {
      "text/plain": [
       "3-Gene classifier subtype\n",
       "ER+/HER2- Low Prolif     640\n",
       "ER+/HER2- High Prolif    617\n",
       "ER-/HER2-                309\n",
       "HER2+                    198\n",
       "Name: count, dtype: int64"
      ]
     },
     "execution_count": 333,
     "metadata": {},
     "output_type": "execute_result"
    }
   ],
   "source": [
    "clinical_df['3-Gene classifier subtype'].value_counts()"
   ]
  },
  {
   "cell_type": "code",
   "execution_count": 334,
   "metadata": {},
   "outputs": [
    {
     "data": {
      "text/plain": [
       "Primary Tumor Laterality\n",
       "Left     973\n",
       "Right    897\n",
       "Name: count, dtype: int64"
      ]
     },
     "execution_count": 334,
     "metadata": {},
     "output_type": "execute_result"
    }
   ],
   "source": [
    "clinical_df['Primary Tumor Laterality'].value_counts()"
   ]
  },
  {
   "cell_type": "code",
   "execution_count": 335,
   "metadata": {},
   "outputs": [
    {
     "data": {
      "text/plain": [
       "Radio Therapy\n",
       "YES    1173\n",
       "NO      807\n",
       "Name: count, dtype: int64"
      ]
     },
     "execution_count": 335,
     "metadata": {},
     "output_type": "execute_result"
    }
   ],
   "source": [
    "clinical_df['Radio Therapy'].value_counts()"
   ]
  },
  {
   "cell_type": "code",
   "execution_count": 336,
   "metadata": {},
   "outputs": [
    {
     "data": {
      "text/plain": [
       "Tumor Other Histologic Subtype\n",
       "Ductal/NST             1491\n",
       "Mixed                   211\n",
       "Lobular                 146\n",
       "Medullary                25\n",
       "Mucinous                 23\n",
       "Tubular/ cribriform      21\n",
       "Other                    17\n",
       "Metaplastic               2\n",
       "Name: count, dtype: int64"
      ]
     },
     "execution_count": 336,
     "metadata": {},
     "output_type": "execute_result"
    }
   ],
   "source": [
    "clinical_df['Tumor Other Histologic Subtype'].value_counts()"
   ]
  },
  {
   "cell_type": "code",
   "execution_count": 337,
   "metadata": {},
   "outputs": [
    {
     "data": {
      "text/plain": [
       "Type of Breast Surgery\n",
       "MASTECTOMY           1170\n",
       "BREAST CONSERVING     785\n",
       "Name: count, dtype: int64"
      ]
     },
     "execution_count": 337,
     "metadata": {},
     "output_type": "execute_result"
    }
   ],
   "source": [
    "clinical_df['Type of Breast Surgery'].value_counts()"
   ]
  },
  {
   "cell_type": "code",
   "execution_count": 338,
   "metadata": {},
   "outputs": [
    {
     "data": {
      "image/png": "[encoded data removed]",
      "text/plain": [
       "<Figure size 640x480 with 1 Axes>"
      ]
     },
     "metadata": {},
     "output_type": "display_data"
    }
   ],
   "source": [
    "clinical_df['Overall Survival (Months)'].astype(float).plot(kind='hist', \n",
    "                                                            title = 'Historgram of Overall Survival in Months',\n",
    "                                                            xlabel ='Overall Survival (Months)', \n",
    "                                                            ylabel = 'Number of Patients')\n",
    "plt.savefig(results_dir/'survival_hist.png')"
   ]
  },
  {
   "cell_type": "code",
   "execution_count": 339,
   "metadata": {},
   "outputs": [
    {
     "data": {
      "image/png": "[encoded data removed]",
      "text/plain": [
       "<Figure size 640x480 with 1 Axes>"
      ]
     },
     "metadata": {},
     "output_type": "display_data"
    }
   ],
   "source": [
    "clinical_df['Overall Survival (Months)'].astype(float).plot(kind='box', \n",
    "                                                            title = 'Boxplot of Overall Survival in Months')\n",
    "plt.savefig(results_dir/'survival_box.png')"
   ]
  },
  {
   "cell_type": "code",
   "execution_count": 340,
   "metadata": {},
   "outputs": [
    {
     "data": {
      "image/png": "[encoded data removed]",
      "text/plain": [
       "<Figure size 640x480 with 1 Axes>"
      ]
     },
     "metadata": {},
     "output_type": "display_data"
    }
   ],
   "source": [
    "clinical_df['Age at Diagnosis'].astype(float).plot(kind='hist', \n",
    "                                                            title = 'Historgram of Age at Diagnosis in Years',\n",
    "                                                            xlabel ='Age at Diagnosis (Years)', \n",
    "                                                            ylabel = 'Number of Patients')\n",
    "plt.savefig(results_dir/'age_hist.png')"
   ]
  },
  {
   "cell_type": "code",
   "execution_count": 341,
   "metadata": {},
   "outputs": [
    {
     "data": {
      "image/png": "[encoded data removed]",
      "text/plain": [
       "<Figure size 640x480 with 1 Axes>"
      ]
     },
     "metadata": {},
     "output_type": "display_data"
    }
   ],
   "source": [
    "clinical_df['Age at Diagnosis'].astype(float).plot(kind='box', \n",
    "                                                    title = 'Historgram of Age at Diagnosis in Years')\n",
    "plt.savefig(results_dir/'age_box.png')"
   ]
  },
  {
   "cell_type": "code",
   "execution_count": 342,
   "metadata": {},
   "outputs": [
    {
     "data": {
      "image/png": "[encoded data removed]",
      "text/plain": [
       "<Figure size 640x480 with 1 Axes>"
      ]
     },
     "metadata": {},
     "output_type": "display_data"
    }
   ],
   "source": [
    "clinical_df['Nottingham prognostic index'].astype(float).plot(kind='hist', \n",
    "                                                            title = 'Historgram of Nottingham prognostic index (NPI)',\n",
    "                                                            xlabel ='Nottingham prognostic index (NPI)', \n",
    "                                                            ylabel = 'Number of Patients')\n",
    "plt.savefig(results_dir/'NPI_hist.png')"
   ]
  },
  {
   "cell_type": "code",
   "execution_count": 343,
   "metadata": {},
   "outputs": [
    {
     "data": {
      "image/png": "[encoded data removed]",
      "text/plain": [
       "<Figure size 640x480 with 1 Axes>"
      ]
     },
     "metadata": {},
     "output_type": "display_data"
    }
   ],
   "source": [
    "clinical_df['Nottingham prognostic index'].astype(float).plot(kind='box', \n",
    "                                                            title = 'Historgram of Nottingham prognostic index (NPI)')\n",
    "plt.savefig(results_dir/'NPI_box.png')"
   ]
  },
  {
   "cell_type": "code",
   "execution_count": 344,
   "metadata": {},
   "outputs": [
    {
     "data": {
      "image/png": "[encoded data removed]",
      "text/plain": [
       "<Figure size 640x480 with 1 Axes>"
      ]
     },
     "metadata": {},
     "output_type": "display_data"
    }
   ],
   "source": [
    "clinical_df['Relapse Free Status (Months)'].astype(float).plot(kind='hist', \n",
    "                                                            title = 'Historgram of Relapse Free Status (Months)',\n",
    "                                                            xlabel ='Relapse Free Status (Months)', \n",
    "                                                            ylabel = 'Number of Patients')\n",
    "plt.savefig(results_dir/'relapse_hist.png')"
   ]
  },
  {
   "cell_type": "code",
   "execution_count": 345,
   "metadata": {},
   "outputs": [
    {
     "data": {
      "image/png": "[encoded data removed]",
      "text/plain": [
       "<Figure size 640x480 with 1 Axes>"
      ]
     },
     "metadata": {},
     "output_type": "display_data"
    }
   ],
   "source": [
    "clinical_df['Relapse Free Status (Months)'].astype(float).plot(kind='box', \n",
    "                                                            title = 'Historgram of Relapse Free Status (Months)')\n",
    "plt.savefig(results_dir/'relapse_box.png')"
   ]
  },
  {
   "cell_type": "markdown",
   "metadata": {},
   "source": [
    "### 1.6. Checking if any patients have missing \"Overall Survival (Months)\" information"
   ]
  },
  {
   "cell_type": "code",
   "execution_count": 346,
   "metadata": {},
   "outputs": [
    {
     "data": {
      "text/plain": [
       "(1980, 19)"
      ]
     },
     "execution_count": 346,
     "metadata": {},
     "output_type": "execute_result"
    }
   ],
   "source": [
    "subset = ~clinical_df['Overall Survival (Months)'].isna()\n",
    "clinical_df = clinical_df.loc[subset]\n",
    "clinical_df.shape"
   ]
  },
  {
   "cell_type": "markdown",
   "metadata": {},
   "source": [
    "### 1.7. Labeling data\n",
    "L - 0, D - 1"
   ]
  },
  {
   "cell_type": "code",
   "execution_count": 347,
   "metadata": {},
   "outputs": [
    {
     "data": {
      "text/plain": [
       "Label\n",
       "0    1489\n",
       "1     491\n",
       "Name: count, dtype: int64"
      ]
     },
     "execution_count": 347,
     "metadata": {},
     "output_type": "execute_result"
    }
   ],
   "source": [
    "clinical_df['Label'] = clinical_df[\"Overall Survival (Months)\"].astype(float).apply(lambda x: 0 if x > 60 else 1)\n",
    "#clinical_df = clinical_df.drop(columns = [\"Overall Survival (Months)\"])\n",
    "clinical_df['Label'].value_counts()"
   ]
  },
  {
   "cell_type": "code",
   "execution_count": 348,
   "metadata": {},
   "outputs": [
    {
     "data": {
      "text/plain": [
       "Label\n",
       "0    500\n",
       "1    491\n",
       "Name: count, dtype: int64"
      ]
     },
     "execution_count": 348,
     "metadata": {},
     "output_type": "execute_result"
    }
   ],
   "source": [
    "# Because the counts in label categories are substantially different, decrease the L label to variable n\n",
    "n = 500\n",
    "L_sample_df = pd.DataFrame(clinical_df.loc[clinical_df['Label'] == 0].sample(n))\n",
    "D_df = clinical_df.loc[clinical_df['Label'] == 1]\n",
    "clinical_df = pd.concat([L_sample_df,D_df]).reset_index(drop=True)\n",
    "clinical_df['Label'].value_counts()"
   ]
  },
  {
   "cell_type": "code",
   "execution_count": 349,
   "metadata": {},
   "outputs": [
    {
     "data": {
      "text/html": [
       "<div>\n",
       "<style scoped>\n",
       "    .dataframe tbody tr th:only-of-type {\n",
       "        vertical-align: middle;\n",
       "    }\n",
       "\n",
       "    .dataframe tbody tr th {\n",
       "        vertical-align: top;\n",
       "    }\n",
       "\n",
       "    .dataframe thead th {\n",
       "        text-align: right;\n",
       "    }\n",
       "</style>\n",
       "<table border=\"1\" class=\"dataframe\">\n",
       "  <thead>\n",
       "    <tr style=\"text-align: right;\">\n",
       "      <th></th>\n",
       "      <th>Lymph nodes examined positive</th>\n",
       "      <th>Nottingham prognostic index</th>\n",
       "      <th>Cellularity</th>\n",
       "      <th>Chemotherapy</th>\n",
       "      <th>ER status measured by IHC</th>\n",
       "      <th>HER2 status measured by SNP6</th>\n",
       "      <th>Hormone Therapy</th>\n",
       "      <th>Inferred Menopausal State</th>\n",
       "      <th>Integrative Cluster</th>\n",
       "      <th>Age at Diagnosis</th>\n",
       "      <th>Overall Survival (Months)</th>\n",
       "      <th>Pam50 + Claudin-low subtype</th>\n",
       "      <th>3-Gene classifier subtype</th>\n",
       "      <th>Primary Tumor Laterality</th>\n",
       "      <th>Radio Therapy</th>\n",
       "      <th>Tumor Other Histologic Subtype</th>\n",
       "      <th>Type of Breast Surgery</th>\n",
       "      <th>Relapse Free Status (Months)</th>\n",
       "      <th>Label</th>\n",
       "    </tr>\n",
       "    <tr>\n",
       "      <th>#Patient Identifier</th>\n",
       "      <th></th>\n",
       "      <th></th>\n",
       "      <th></th>\n",
       "      <th></th>\n",
       "      <th></th>\n",
       "      <th></th>\n",
       "      <th></th>\n",
       "      <th></th>\n",
       "      <th></th>\n",
       "      <th></th>\n",
       "      <th></th>\n",
       "      <th></th>\n",
       "      <th></th>\n",
       "      <th></th>\n",
       "      <th></th>\n",
       "      <th></th>\n",
       "      <th></th>\n",
       "      <th></th>\n",
       "      <th></th>\n",
       "    </tr>\n",
       "  </thead>\n",
       "  <tbody>\n",
       "    <tr>\n",
       "      <th>MB-4283</th>\n",
       "      <td>2</td>\n",
       "      <td>4.08</td>\n",
       "      <td>Moderate</td>\n",
       "      <td>NO</td>\n",
       "      <td>Positve</td>\n",
       "      <td>NEUTRAL</td>\n",
       "      <td>YES</td>\n",
       "      <td>Post</td>\n",
       "      <td>8</td>\n",
       "      <td>55.62</td>\n",
       "      <td>174.8333333</td>\n",
       "      <td>LumA</td>\n",
       "      <td>ER+/HER2- Low Prolif</td>\n",
       "      <td>Left</td>\n",
       "      <td>YES</td>\n",
       "      <td>Ductal/NST</td>\n",
       "      <td>MASTECTOMY</td>\n",
       "      <td>172.53</td>\n",
       "      <td>0</td>\n",
       "    </tr>\n",
       "    <tr>\n",
       "      <th>MB-7079</th>\n",
       "      <td>1</td>\n",
       "      <td>4.06</td>\n",
       "      <td>Low</td>\n",
       "      <td>NO</td>\n",
       "      <td>Positve</td>\n",
       "      <td>NEUTRAL</td>\n",
       "      <td>YES</td>\n",
       "      <td>Post</td>\n",
       "      <td>4ER+</td>\n",
       "      <td>70.3</td>\n",
       "      <td>91.06666667</td>\n",
       "      <td>claudin-low</td>\n",
       "      <td>ER-/HER2-</td>\n",
       "      <td>Right</td>\n",
       "      <td>NO</td>\n",
       "      <td>Ductal/NST</td>\n",
       "      <td>MASTECTOMY</td>\n",
       "      <td>89.87</td>\n",
       "      <td>0</td>\n",
       "    </tr>\n",
       "    <tr>\n",
       "      <th>MB-6082</th>\n",
       "      <td>8</td>\n",
       "      <td>5.14</td>\n",
       "      <td>Low</td>\n",
       "      <td>YES</td>\n",
       "      <td>Negative</td>\n",
       "      <td>NEUTRAL</td>\n",
       "      <td>NO</td>\n",
       "      <td>Pre</td>\n",
       "      <td>7</td>\n",
       "      <td>46.47</td>\n",
       "      <td>102.5</td>\n",
       "      <td>Normal</td>\n",
       "      <td>ER+/HER2- Low Prolif</td>\n",
       "      <td>Right</td>\n",
       "      <td>NO</td>\n",
       "      <td>Ductal/NST</td>\n",
       "      <td>MASTECTOMY</td>\n",
       "      <td>101.15</td>\n",
       "      <td>0</td>\n",
       "    </tr>\n",
       "    <tr>\n",
       "      <th>MB-5064</th>\n",
       "      <td>0</td>\n",
       "      <td>3.04</td>\n",
       "      <td>High</td>\n",
       "      <td>NO</td>\n",
       "      <td>Positve</td>\n",
       "      <td>LOSS</td>\n",
       "      <td>NO</td>\n",
       "      <td>Post</td>\n",
       "      <td>4ER+</td>\n",
       "      <td>63.4</td>\n",
       "      <td>91.5</td>\n",
       "      <td>LumA</td>\n",
       "      <td>ER+/HER2- Low Prolif</td>\n",
       "      <td>Left</td>\n",
       "      <td>NO</td>\n",
       "      <td>Ductal/NST</td>\n",
       "      <td>MASTECTOMY</td>\n",
       "      <td>90.3</td>\n",
       "      <td>0</td>\n",
       "    </tr>\n",
       "    <tr>\n",
       "      <th>MB-0270</th>\n",
       "      <td>0</td>\n",
       "      <td>4.028</td>\n",
       "      <td>High</td>\n",
       "      <td>NO</td>\n",
       "      <td>Positve</td>\n",
       "      <td>NEUTRAL</td>\n",
       "      <td>NO</td>\n",
       "      <td>Pre</td>\n",
       "      <td>10</td>\n",
       "      <td>29.98</td>\n",
       "      <td>337.0333333</td>\n",
       "      <td>LumB</td>\n",
       "      <td>ER+/HER2- High Prolif</td>\n",
       "      <td>Left</td>\n",
       "      <td>NO</td>\n",
       "      <td>Ductal/NST</td>\n",
       "      <td>MASTECTOMY</td>\n",
       "      <td>139.64</td>\n",
       "      <td>0</td>\n",
       "    </tr>\n",
       "  </tbody>\n",
       "</table>\n",
       "</div>"
      ],
      "text/plain": [
       "                    Lymph nodes examined positive Nottingham prognostic index  \\\n",
       "#Patient Identifier                                                             \n",
       "MB-4283                                         2                        4.08   \n",
       "MB-7079                                         1                        4.06   \n",
       "MB-6082                                         8                        5.14   \n",
       "MB-5064                                         0                        3.04   \n",
       "MB-0270                                         0                       4.028   \n",
       "\n",
       "                    Cellularity Chemotherapy ER status measured by IHC  \\\n",
       "#Patient Identifier                                                      \n",
       "MB-4283                Moderate           NO                   Positve   \n",
       "MB-7079                     Low           NO                   Positve   \n",
       "MB-6082                     Low          YES                  Negative   \n",
       "MB-5064                    High           NO                   Positve   \n",
       "MB-0270                    High           NO                   Positve   \n",
       "\n",
       "                    HER2 status measured by SNP6 Hormone Therapy  \\\n",
       "#Patient Identifier                                                \n",
       "MB-4283                                  NEUTRAL             YES   \n",
       "MB-7079                                  NEUTRAL             YES   \n",
       "MB-6082                                  NEUTRAL              NO   \n",
       "MB-5064                                     LOSS              NO   \n",
       "MB-0270                                  NEUTRAL              NO   \n",
       "\n",
       "                    Inferred Menopausal State Integrative Cluster  \\\n",
       "#Patient Identifier                                                 \n",
       "MB-4283                                  Post                   8   \n",
       "MB-7079                                  Post                4ER+   \n",
       "MB-6082                                   Pre                   7   \n",
       "MB-5064                                  Post                4ER+   \n",
       "MB-0270                                   Pre                  10   \n",
       "\n",
       "                    Age at Diagnosis Overall Survival (Months)  \\\n",
       "#Patient Identifier                                              \n",
       "MB-4283                        55.62               174.8333333   \n",
       "MB-7079                         70.3               91.06666667   \n",
       "MB-6082                        46.47                     102.5   \n",
       "MB-5064                         63.4                      91.5   \n",
       "MB-0270                        29.98               337.0333333   \n",
       "\n",
       "                    Pam50 + Claudin-low subtype 3-Gene classifier subtype  \\\n",
       "#Patient Identifier                                                         \n",
       "MB-4283                                    LumA      ER+/HER2- Low Prolif   \n",
       "MB-7079                             claudin-low                 ER-/HER2-   \n",
       "MB-6082                                  Normal      ER+/HER2- Low Prolif   \n",
       "MB-5064                                    LumA      ER+/HER2- Low Prolif   \n",
       "MB-0270                                    LumB     ER+/HER2- High Prolif   \n",
       "\n",
       "                    Primary Tumor Laterality Radio Therapy  \\\n",
       "#Patient Identifier                                          \n",
       "MB-4283                                 Left           YES   \n",
       "MB-7079                                Right            NO   \n",
       "MB-6082                                Right            NO   \n",
       "MB-5064                                 Left            NO   \n",
       "MB-0270                                 Left            NO   \n",
       "\n",
       "                    Tumor Other Histologic Subtype Type of Breast Surgery  \\\n",
       "#Patient Identifier                                                         \n",
       "MB-4283                                 Ductal/NST             MASTECTOMY   \n",
       "MB-7079                                 Ductal/NST             MASTECTOMY   \n",
       "MB-6082                                 Ductal/NST             MASTECTOMY   \n",
       "MB-5064                                 Ductal/NST             MASTECTOMY   \n",
       "MB-0270                                 Ductal/NST             MASTECTOMY   \n",
       "\n",
       "                    Relapse Free Status (Months)  Label  \n",
       "#Patient Identifier                                      \n",
       "MB-4283                                   172.53      0  \n",
       "MB-7079                                    89.87      0  \n",
       "MB-6082                                   101.15      0  \n",
       "MB-5064                                     90.3      0  \n",
       "MB-0270                                   139.64      0  "
      ]
     },
     "execution_count": 349,
     "metadata": {},
     "output_type": "execute_result"
    }
   ],
   "source": [
    "clinical_df.set_index('#Patient Identifier', inplace=True)\n",
    "clinical_df.head()"
   ]
  },
  {
   "cell_type": "markdown",
   "metadata": {},
   "source": [
    "### 1.8. Train-val-test split"
   ]
  },
  {
   "cell_type": "code",
   "execution_count": 350,
   "metadata": {},
   "outputs": [],
   "source": [
    "train_val_data, test_data = train_test_split(clinical_df, test_size=0.15, stratify=clinical_df['Label'], random_state=42)\n",
    "train_data, val_data = train_test_split(train_val_data, test_size=0.125, stratify=train_val_data['Label'], random_state=42)"
   ]
  },
  {
   "cell_type": "code",
   "execution_count": 351,
   "metadata": {},
   "outputs": [
    {
     "data": {
      "text/plain": [
       "(736, 19)"
      ]
     },
     "execution_count": 351,
     "metadata": {},
     "output_type": "execute_result"
    }
   ],
   "source": [
    "train_data.shape"
   ]
  },
  {
   "cell_type": "code",
   "execution_count": 352,
   "metadata": {},
   "outputs": [
    {
     "data": {
      "text/plain": [
       "(106, 19)"
      ]
     },
     "execution_count": 352,
     "metadata": {},
     "output_type": "execute_result"
    }
   ],
   "source": [
    "val_data.shape"
   ]
  },
  {
   "cell_type": "code",
   "execution_count": 353,
   "metadata": {},
   "outputs": [
    {
     "data": {
      "text/plain": [
       "(149, 19)"
      ]
     },
     "execution_count": 353,
     "metadata": {},
     "output_type": "execute_result"
    }
   ],
   "source": [
    "test_data.shape"
   ]
  },
  {
   "cell_type": "code",
   "execution_count": 354,
   "metadata": {},
   "outputs": [],
   "source": [
    "def get_split_group(id_code):\n",
    "    if id_code in list(train_data.index):\n",
    "        return 'train'\n",
    "    elif id_code in val_data.index:\n",
    "        return 'val'\n",
    "    elif id_code in test_data.index:\n",
    "        return 'test'\n",
    "    else:\n",
    "        print('Found NaN!')"
   ]
  },
  {
   "cell_type": "code",
   "execution_count": 355,
   "metadata": {},
   "outputs": [],
   "source": [
    "clinical_df['group'] = 'Missing'\n",
    "clinical_df['group'] = [get_split_group(x) for x in list(clinical_df.index)]"
   ]
  },
  {
   "cell_type": "code",
   "execution_count": 356,
   "metadata": {},
   "outputs": [
    {
     "data": {
      "text/html": [
       "<div>\n",
       "<style scoped>\n",
       "    .dataframe tbody tr th:only-of-type {\n",
       "        vertical-align: middle;\n",
       "    }\n",
       "\n",
       "    .dataframe tbody tr th {\n",
       "        vertical-align: top;\n",
       "    }\n",
       "\n",
       "    .dataframe thead th {\n",
       "        text-align: right;\n",
       "    }\n",
       "</style>\n",
       "<table border=\"1\" class=\"dataframe\">\n",
       "  <thead>\n",
       "    <tr style=\"text-align: right;\">\n",
       "      <th></th>\n",
       "      <th>Lymph nodes examined positive</th>\n",
       "      <th>Nottingham prognostic index</th>\n",
       "      <th>Cellularity</th>\n",
       "      <th>Chemotherapy</th>\n",
       "      <th>ER status measured by IHC</th>\n",
       "      <th>HER2 status measured by SNP6</th>\n",
       "      <th>Hormone Therapy</th>\n",
       "      <th>Inferred Menopausal State</th>\n",
       "      <th>Integrative Cluster</th>\n",
       "      <th>Age at Diagnosis</th>\n",
       "      <th>Overall Survival (Months)</th>\n",
       "      <th>Pam50 + Claudin-low subtype</th>\n",
       "      <th>3-Gene classifier subtype</th>\n",
       "      <th>Primary Tumor Laterality</th>\n",
       "      <th>Radio Therapy</th>\n",
       "      <th>Tumor Other Histologic Subtype</th>\n",
       "      <th>Type of Breast Surgery</th>\n",
       "      <th>Relapse Free Status (Months)</th>\n",
       "      <th>Label</th>\n",
       "      <th>group</th>\n",
       "    </tr>\n",
       "    <tr>\n",
       "      <th>#Patient Identifier</th>\n",
       "      <th></th>\n",
       "      <th></th>\n",
       "      <th></th>\n",
       "      <th></th>\n",
       "      <th></th>\n",
       "      <th></th>\n",
       "      <th></th>\n",
       "      <th></th>\n",
       "      <th></th>\n",
       "      <th></th>\n",
       "      <th></th>\n",
       "      <th></th>\n",
       "      <th></th>\n",
       "      <th></th>\n",
       "      <th></th>\n",
       "      <th></th>\n",
       "      <th></th>\n",
       "      <th></th>\n",
       "      <th></th>\n",
       "      <th></th>\n",
       "    </tr>\n",
       "  </thead>\n",
       "  <tbody>\n",
       "    <tr>\n",
       "      <th>MB-4283</th>\n",
       "      <td>2</td>\n",
       "      <td>4.08</td>\n",
       "      <td>Moderate</td>\n",
       "      <td>NO</td>\n",
       "      <td>Positve</td>\n",
       "      <td>NEUTRAL</td>\n",
       "      <td>YES</td>\n",
       "      <td>Post</td>\n",
       "      <td>8</td>\n",
       "      <td>55.62</td>\n",
       "      <td>174.8333333</td>\n",
       "      <td>LumA</td>\n",
       "      <td>ER+/HER2- Low Prolif</td>\n",
       "      <td>Left</td>\n",
       "      <td>YES</td>\n",
       "      <td>Ductal/NST</td>\n",
       "      <td>MASTECTOMY</td>\n",
       "      <td>172.53</td>\n",
       "      <td>0</td>\n",
       "      <td>train</td>\n",
       "    </tr>\n",
       "    <tr>\n",
       "      <th>MB-7079</th>\n",
       "      <td>1</td>\n",
       "      <td>4.06</td>\n",
       "      <td>Low</td>\n",
       "      <td>NO</td>\n",
       "      <td>Positve</td>\n",
       "      <td>NEUTRAL</td>\n",
       "      <td>YES</td>\n",
       "      <td>Post</td>\n",
       "      <td>4ER+</td>\n",
       "      <td>70.3</td>\n",
       "      <td>91.06666667</td>\n",
       "      <td>claudin-low</td>\n",
       "      <td>ER-/HER2-</td>\n",
       "      <td>Right</td>\n",
       "      <td>NO</td>\n",
       "      <td>Ductal/NST</td>\n",
       "      <td>MASTECTOMY</td>\n",
       "      <td>89.87</td>\n",
       "      <td>0</td>\n",
       "      <td>train</td>\n",
       "    </tr>\n",
       "    <tr>\n",
       "      <th>MB-6082</th>\n",
       "      <td>8</td>\n",
       "      <td>5.14</td>\n",
       "      <td>Low</td>\n",
       "      <td>YES</td>\n",
       "      <td>Negative</td>\n",
       "      <td>NEUTRAL</td>\n",
       "      <td>NO</td>\n",
       "      <td>Pre</td>\n",
       "      <td>7</td>\n",
       "      <td>46.47</td>\n",
       "      <td>102.5</td>\n",
       "      <td>Normal</td>\n",
       "      <td>ER+/HER2- Low Prolif</td>\n",
       "      <td>Right</td>\n",
       "      <td>NO</td>\n",
       "      <td>Ductal/NST</td>\n",
       "      <td>MASTECTOMY</td>\n",
       "      <td>101.15</td>\n",
       "      <td>0</td>\n",
       "      <td>train</td>\n",
       "    </tr>\n",
       "    <tr>\n",
       "      <th>MB-5064</th>\n",
       "      <td>0</td>\n",
       "      <td>3.04</td>\n",
       "      <td>High</td>\n",
       "      <td>NO</td>\n",
       "      <td>Positve</td>\n",
       "      <td>LOSS</td>\n",
       "      <td>NO</td>\n",
       "      <td>Post</td>\n",
       "      <td>4ER+</td>\n",
       "      <td>63.4</td>\n",
       "      <td>91.5</td>\n",
       "      <td>LumA</td>\n",
       "      <td>ER+/HER2- Low Prolif</td>\n",
       "      <td>Left</td>\n",
       "      <td>NO</td>\n",
       "      <td>Ductal/NST</td>\n",
       "      <td>MASTECTOMY</td>\n",
       "      <td>90.3</td>\n",
       "      <td>0</td>\n",
       "      <td>val</td>\n",
       "    </tr>\n",
       "    <tr>\n",
       "      <th>MB-0270</th>\n",
       "      <td>0</td>\n",
       "      <td>4.028</td>\n",
       "      <td>High</td>\n",
       "      <td>NO</td>\n",
       "      <td>Positve</td>\n",
       "      <td>NEUTRAL</td>\n",
       "      <td>NO</td>\n",
       "      <td>Pre</td>\n",
       "      <td>10</td>\n",
       "      <td>29.98</td>\n",
       "      <td>337.0333333</td>\n",
       "      <td>LumB</td>\n",
       "      <td>ER+/HER2- High Prolif</td>\n",
       "      <td>Left</td>\n",
       "      <td>NO</td>\n",
       "      <td>Ductal/NST</td>\n",
       "      <td>MASTECTOMY</td>\n",
       "      <td>139.64</td>\n",
       "      <td>0</td>\n",
       "      <td>train</td>\n",
       "    </tr>\n",
       "  </tbody>\n",
       "</table>\n",
       "</div>"
      ],
      "text/plain": [
       "                    Lymph nodes examined positive Nottingham prognostic index  \\\n",
       "#Patient Identifier                                                             \n",
       "MB-4283                                         2                        4.08   \n",
       "MB-7079                                         1                        4.06   \n",
       "MB-6082                                         8                        5.14   \n",
       "MB-5064                                         0                        3.04   \n",
       "MB-0270                                         0                       4.028   \n",
       "\n",
       "                    Cellularity Chemotherapy ER status measured by IHC  \\\n",
       "#Patient Identifier                                                      \n",
       "MB-4283                Moderate           NO                   Positve   \n",
       "MB-7079                     Low           NO                   Positve   \n",
       "MB-6082                     Low          YES                  Negative   \n",
       "MB-5064                    High           NO                   Positve   \n",
       "MB-0270                    High           NO                   Positve   \n",
       "\n",
       "                    HER2 status measured by SNP6 Hormone Therapy  \\\n",
       "#Patient Identifier                                                \n",
       "MB-4283                                  NEUTRAL             YES   \n",
       "MB-7079                                  NEUTRAL             YES   \n",
       "MB-6082                                  NEUTRAL              NO   \n",
       "MB-5064                                     LOSS              NO   \n",
       "MB-0270                                  NEUTRAL              NO   \n",
       "\n",
       "                    Inferred Menopausal State Integrative Cluster  \\\n",
       "#Patient Identifier                                                 \n",
       "MB-4283                                  Post                   8   \n",
       "MB-7079                                  Post                4ER+   \n",
       "MB-6082                                   Pre                   7   \n",
       "MB-5064                                  Post                4ER+   \n",
       "MB-0270                                   Pre                  10   \n",
       "\n",
       "                    Age at Diagnosis Overall Survival (Months)  \\\n",
       "#Patient Identifier                                              \n",
       "MB-4283                        55.62               174.8333333   \n",
       "MB-7079                         70.3               91.06666667   \n",
       "MB-6082                        46.47                     102.5   \n",
       "MB-5064                         63.4                      91.5   \n",
       "MB-0270                        29.98               337.0333333   \n",
       "\n",
       "                    Pam50 + Claudin-low subtype 3-Gene classifier subtype  \\\n",
       "#Patient Identifier                                                         \n",
       "MB-4283                                    LumA      ER+/HER2- Low Prolif   \n",
       "MB-7079                             claudin-low                 ER-/HER2-   \n",
       "MB-6082                                  Normal      ER+/HER2- Low Prolif   \n",
       "MB-5064                                    LumA      ER+/HER2- Low Prolif   \n",
       "MB-0270                                    LumB     ER+/HER2- High Prolif   \n",
       "\n",
       "                    Primary Tumor Laterality Radio Therapy  \\\n",
       "#Patient Identifier                                          \n",
       "MB-4283                                 Left           YES   \n",
       "MB-7079                                Right            NO   \n",
       "MB-6082                                Right            NO   \n",
       "MB-5064                                 Left            NO   \n",
       "MB-0270                                 Left            NO   \n",
       "\n",
       "                    Tumor Other Histologic Subtype Type of Breast Surgery  \\\n",
       "#Patient Identifier                                                         \n",
       "MB-4283                                 Ductal/NST             MASTECTOMY   \n",
       "MB-7079                                 Ductal/NST             MASTECTOMY   \n",
       "MB-6082                                 Ductal/NST             MASTECTOMY   \n",
       "MB-5064                                 Ductal/NST             MASTECTOMY   \n",
       "MB-0270                                 Ductal/NST             MASTECTOMY   \n",
       "\n",
       "                    Relapse Free Status (Months)  Label  group  \n",
       "#Patient Identifier                                             \n",
       "MB-4283                                   172.53      0  train  \n",
       "MB-7079                                    89.87      0  train  \n",
       "MB-6082                                   101.15      0  train  \n",
       "MB-5064                                     90.3      0    val  \n",
       "MB-0270                                   139.64      0  train  "
      ]
     },
     "execution_count": 356,
     "metadata": {},
     "output_type": "execute_result"
    }
   ],
   "source": [
    "clinical_df.head()"
   ]
  },
  {
   "cell_type": "code",
   "execution_count": 357,
   "metadata": {},
   "outputs": [],
   "source": [
    "clinical_df.to_csv(results_dir/'preprocessed_clinical_data.csv')"
   ]
  }
 ],
 "metadata": {
  "kernelspec": {
   "display_name": "Python 3 (ipykernel)",
   "language": "python",
   "name": "python3"
  },
  "language_info": {
   "codemirror_mode": {
    "name": "ipython",
    "version": 3
   },
   "file_extension": ".py",
   "mimetype": "text/x-python",
   "name": "python",
   "nbconvert_exporter": "python",
   "pygments_lexer": "ipython3",
   "version": "3.8.18"
  }
 },
 "nbformat": 4,
 "nbformat_minor": 4
}
